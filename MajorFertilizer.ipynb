{
  "nbformat": 4,
  "nbformat_minor": 0,
  "metadata": {
    "colab": {
      "provenance": [],
      "include_colab_link": true
    },
    "kernelspec": {
      "name": "python3",
      "display_name": "Python 3"
    },
    "language_info": {
      "name": "python"
    }
  },
  "cells": [
    {
      "cell_type": "markdown",
      "metadata": {
        "id": "view-in-github",
        "colab_type": "text"
      },
      "source": [
        "<a href=\"https://colab.research.google.com/github/Areefahnk/2216152_AIML_Bootcamp_2023/blob/main/MajorFertilizer.ipynb\" target=\"_parent\"><img src=\"https://colab.research.google.com/assets/colab-badge.svg\" alt=\"Open In Colab\"/></a>"
      ]
    },
    {
      "cell_type": "code",
      "execution_count": null,
      "metadata": {
        "id": "eS79oH2HUh9N",
        "colab": {
          "base_uri": "https://localhost:8080/"
        },
        "outputId": "a3afb133-e621-482d-eb16-0a2c32ec782b"
      },
      "outputs": [
        {
          "output_type": "stream",
          "name": "stdout",
          "text": [
            "Mounted at /content/drive\n"
          ]
        }
      ],
      "source": [
        "from google.colab import drive\n",
        "drive.mount('/content/drive')"
      ]
    },
    {
      "cell_type": "code",
      "execution_count": null,
      "metadata": {
        "id": "GWcxjaylU1NU",
        "colab": {
          "base_uri": "https://localhost:8080/",
          "height": 206
        },
        "outputId": "26e4caab-8a9b-4916-a089-4370f5c6bcce"
      },
      "outputs": [
        {
          "output_type": "execute_result",
          "data": {
            "text/plain": [
              "    N   P   K  temperature   humidity        ph    rainfall  crop fertilizer\n",
              "0  90  42  43    20.879744  82.002744  6.502985  202.935536  rice     Manure\n",
              "1  85  58  41    21.770462  80.319644  7.038096  226.655537  rice     Manure\n",
              "2  60  55  44    23.004459  82.320763  7.840207  263.964248  rice       Urea\n",
              "3  74  35  40    26.491096  80.158363  6.980401  242.864034  rice       Urea\n",
              "4  78  42  42    20.130175  81.604873  7.628473  262.717340  rice     Manure"
            ],
            "text/html": [
              "\n",
              "  <div id=\"df-b5875073-81c0-497b-af7e-fad3174464e9\">\n",
              "    <div class=\"colab-df-container\">\n",
              "      <div>\n",
              "<style scoped>\n",
              "    .dataframe tbody tr th:only-of-type {\n",
              "        vertical-align: middle;\n",
              "    }\n",
              "\n",
              "    .dataframe tbody tr th {\n",
              "        vertical-align: top;\n",
              "    }\n",
              "\n",
              "    .dataframe thead th {\n",
              "        text-align: right;\n",
              "    }\n",
              "</style>\n",
              "<table border=\"1\" class=\"dataframe\">\n",
              "  <thead>\n",
              "    <tr style=\"text-align: right;\">\n",
              "      <th></th>\n",
              "      <th>N</th>\n",
              "      <th>P</th>\n",
              "      <th>K</th>\n",
              "      <th>temperature</th>\n",
              "      <th>humidity</th>\n",
              "      <th>ph</th>\n",
              "      <th>rainfall</th>\n",
              "      <th>crop</th>\n",
              "      <th>fertilizer</th>\n",
              "    </tr>\n",
              "  </thead>\n",
              "  <tbody>\n",
              "    <tr>\n",
              "      <th>0</th>\n",
              "      <td>90</td>\n",
              "      <td>42</td>\n",
              "      <td>43</td>\n",
              "      <td>20.879744</td>\n",
              "      <td>82.002744</td>\n",
              "      <td>6.502985</td>\n",
              "      <td>202.935536</td>\n",
              "      <td>rice</td>\n",
              "      <td>Manure</td>\n",
              "    </tr>\n",
              "    <tr>\n",
              "      <th>1</th>\n",
              "      <td>85</td>\n",
              "      <td>58</td>\n",
              "      <td>41</td>\n",
              "      <td>21.770462</td>\n",
              "      <td>80.319644</td>\n",
              "      <td>7.038096</td>\n",
              "      <td>226.655537</td>\n",
              "      <td>rice</td>\n",
              "      <td>Manure</td>\n",
              "    </tr>\n",
              "    <tr>\n",
              "      <th>2</th>\n",
              "      <td>60</td>\n",
              "      <td>55</td>\n",
              "      <td>44</td>\n",
              "      <td>23.004459</td>\n",
              "      <td>82.320763</td>\n",
              "      <td>7.840207</td>\n",
              "      <td>263.964248</td>\n",
              "      <td>rice</td>\n",
              "      <td>Urea</td>\n",
              "    </tr>\n",
              "    <tr>\n",
              "      <th>3</th>\n",
              "      <td>74</td>\n",
              "      <td>35</td>\n",
              "      <td>40</td>\n",
              "      <td>26.491096</td>\n",
              "      <td>80.158363</td>\n",
              "      <td>6.980401</td>\n",
              "      <td>242.864034</td>\n",
              "      <td>rice</td>\n",
              "      <td>Urea</td>\n",
              "    </tr>\n",
              "    <tr>\n",
              "      <th>4</th>\n",
              "      <td>78</td>\n",
              "      <td>42</td>\n",
              "      <td>42</td>\n",
              "      <td>20.130175</td>\n",
              "      <td>81.604873</td>\n",
              "      <td>7.628473</td>\n",
              "      <td>262.717340</td>\n",
              "      <td>rice</td>\n",
              "      <td>Manure</td>\n",
              "    </tr>\n",
              "  </tbody>\n",
              "</table>\n",
              "</div>\n",
              "      <button class=\"colab-df-convert\" onclick=\"convertToInteractive('df-b5875073-81c0-497b-af7e-fad3174464e9')\"\n",
              "              title=\"Convert this dataframe to an interactive table.\"\n",
              "              style=\"display:none;\">\n",
              "        \n",
              "  <svg xmlns=\"http://www.w3.org/2000/svg\" height=\"24px\"viewBox=\"0 0 24 24\"\n",
              "       width=\"24px\">\n",
              "    <path d=\"M0 0h24v24H0V0z\" fill=\"none\"/>\n",
              "    <path d=\"M18.56 5.44l.94 2.06.94-2.06 2.06-.94-2.06-.94-.94-2.06-.94 2.06-2.06.94zm-11 1L8.5 8.5l.94-2.06 2.06-.94-2.06-.94L8.5 2.5l-.94 2.06-2.06.94zm10 10l.94 2.06.94-2.06 2.06-.94-2.06-.94-.94-2.06-.94 2.06-2.06.94z\"/><path d=\"M17.41 7.96l-1.37-1.37c-.4-.4-.92-.59-1.43-.59-.52 0-1.04.2-1.43.59L10.3 9.45l-7.72 7.72c-.78.78-.78 2.05 0 2.83L4 21.41c.39.39.9.59 1.41.59.51 0 1.02-.2 1.41-.59l7.78-7.78 2.81-2.81c.8-.78.8-2.07 0-2.86zM5.41 20L4 18.59l7.72-7.72 1.47 1.35L5.41 20z\"/>\n",
              "  </svg>\n",
              "      </button>\n",
              "      \n",
              "  <style>\n",
              "    .colab-df-container {\n",
              "      display:flex;\n",
              "      flex-wrap:wrap;\n",
              "      gap: 12px;\n",
              "    }\n",
              "\n",
              "    .colab-df-convert {\n",
              "      background-color: #E8F0FE;\n",
              "      border: none;\n",
              "      border-radius: 50%;\n",
              "      cursor: pointer;\n",
              "      display: none;\n",
              "      fill: #1967D2;\n",
              "      height: 32px;\n",
              "      padding: 0 0 0 0;\n",
              "      width: 32px;\n",
              "    }\n",
              "\n",
              "    .colab-df-convert:hover {\n",
              "      background-color: #E2EBFA;\n",
              "      box-shadow: 0px 1px 2px rgba(60, 64, 67, 0.3), 0px 1px 3px 1px rgba(60, 64, 67, 0.15);\n",
              "      fill: #174EA6;\n",
              "    }\n",
              "\n",
              "    [theme=dark] .colab-df-convert {\n",
              "      background-color: #3B4455;\n",
              "      fill: #D2E3FC;\n",
              "    }\n",
              "\n",
              "    [theme=dark] .colab-df-convert:hover {\n",
              "      background-color: #434B5C;\n",
              "      box-shadow: 0px 1px 3px 1px rgba(0, 0, 0, 0.15);\n",
              "      filter: drop-shadow(0px 1px 2px rgba(0, 0, 0, 0.3));\n",
              "      fill: #FFFFFF;\n",
              "    }\n",
              "  </style>\n",
              "\n",
              "      <script>\n",
              "        const buttonEl =\n",
              "          document.querySelector('#df-b5875073-81c0-497b-af7e-fad3174464e9 button.colab-df-convert');\n",
              "        buttonEl.style.display =\n",
              "          google.colab.kernel.accessAllowed ? 'block' : 'none';\n",
              "\n",
              "        async function convertToInteractive(key) {\n",
              "          const element = document.querySelector('#df-b5875073-81c0-497b-af7e-fad3174464e9');\n",
              "          const dataTable =\n",
              "            await google.colab.kernel.invokeFunction('convertToInteractive',\n",
              "                                                     [key], {});\n",
              "          if (!dataTable) return;\n",
              "\n",
              "          const docLinkHtml = 'Like what you see? Visit the ' +\n",
              "            '<a target=\"_blank\" href=https://colab.research.google.com/notebooks/data_table.ipynb>data table notebook</a>'\n",
              "            + ' to learn more about interactive tables.';\n",
              "          element.innerHTML = '';\n",
              "          dataTable['output_type'] = 'display_data';\n",
              "          await google.colab.output.renderOutput(dataTable, element);\n",
              "          const docLink = document.createElement('div');\n",
              "          docLink.innerHTML = docLinkHtml;\n",
              "          element.appendChild(docLink);\n",
              "        }\n",
              "      </script>\n",
              "    </div>\n",
              "  </div>\n",
              "  "
            ]
          },
          "metadata": {},
          "execution_count": 6
        }
      ],
      "source": [
        "\n",
        "# loading the  dataset\n",
        "import pandas as pd\n",
        "data = pd.read_csv(\"/content/drive/MyDrive/fertilizerdataset_2.csv\",encoding='unicode_escape')\n",
        "\n",
        "data.head()"
      ]
    },
    {
      "cell_type": "code",
      "execution_count": null,
      "metadata": {
        "id": "r3i50Cys9YCM",
        "colab": {
          "base_uri": "https://localhost:8080/"
        },
        "outputId": "6d992d1c-5deb-4ac3-f3d1-f3a5f16873cc"
      },
      "outputs": [
        {
          "output_type": "execute_result",
          "data": {
            "text/plain": [
              "(2200, 9)"
            ]
          },
          "metadata": {},
          "execution_count": 7
        }
      ],
      "source": [
        "data.shape #static methods directly accessed by their names "
      ]
    },
    {
      "cell_type": "markdown",
      "source": [
        "**STEP-1 VISUALIZATION**"
      ],
      "metadata": {
        "id": "0AQ0kpAAi9DR"
      }
    },
    {
      "cell_type": "code",
      "execution_count": null,
      "metadata": {
        "id": "c5rGz3Mr-J_K",
        "colab": {
          "base_uri": "https://localhost:8080/",
          "height": 297
        },
        "outputId": "6e2922ee-89a0-4754-fbb5-f9ada2a9f119"
      },
      "outputs": [
        {
          "output_type": "display_data",
          "data": {
            "text/plain": [
              "<Figure size 720x288 with 1 Axes>"
            ],
            "image/png": "[encoded data removed]"
          },
          "metadata": {
            "needs_background": "light"
          }
        }
      ],
      "source": [
        "import matplotlib.pyplot as plt\n",
        "import seaborn as sns\n",
        "def get_heatmap(data):\n",
        "  #this function gives heatmap of all NaN values\n",
        "  plt.figure(figsize=(10,4)) # 6 length 4 breadth\n",
        "  sns.heatmap(data.isnull(),yticklabels=False,cbar=False,cmap='viridis')\n",
        "  plt.tight_layout()\n",
        "  return plt.show()\n",
        "\n",
        "get_heatmap(data)\n",
        "\n",
        "\n",
        "  \n",
        "\n"
      ]
    },
    {
      "cell_type": "markdown",
      "source": [
        "**ANALYZING DATA**"
      ],
      "metadata": {
        "id": "DPibx6KFjyRb"
      }
    },
    {
      "cell_type": "code",
      "source": [
        "#countplot- visualization\n",
        "df = data.copy()\n",
        "sns.countplot(x ='fertilizer',data=df)\n",
        "#show plot\n",
        "plt.show()"
      ],
      "metadata": {
        "id": "D-INSSWbj7Q3",
        "colab": {
          "base_uri": "https://localhost:8080/",
          "height": 420
        },
        "outputId": "8591d2c6-0044-44bb-e2ee-052d28e14aa5"
      },
      "execution_count": null,
      "outputs": [
        {
          "output_type": "stream",
          "name": "stderr",
          "text": [
            "/usr/local/lib/python3.8/dist-packages/matplotlib/backends/backend_agg.py:214: RuntimeWarning: Glyph 128 missing from current font.\n",
            "  font.set_text(s, 0.0, flags=flags)\n",
            "/usr/local/lib/python3.8/dist-packages/matplotlib/backends/backend_agg.py:214: RuntimeWarning: Glyph 147 missing from current font.\n",
            "  font.set_text(s, 0.0, flags=flags)\n",
            "/usr/local/lib/python3.8/dist-packages/matplotlib/backends/backend_agg.py:183: RuntimeWarning: Glyph 128 missing from current font.\n",
            "  font.set_text(s, 0, flags=flags)\n",
            "/usr/local/lib/python3.8/dist-packages/matplotlib/backends/backend_agg.py:183: RuntimeWarning: Glyph 147 missing from current font.\n",
            "  font.set_text(s, 0, flags=flags)\n"
          ]
        },
        {
          "output_type": "display_data",
          "data": {
            "text/plain": [
              "<Figure size 432x288 with 1 Axes>"
            ],
            "image/png": "[encoded data removed]"
          },
          "metadata": {
            "needs_background": "light"
          }
        }
      ]
    },
    {
      "cell_type": "code",
      "source": [
        "#heatmap for the above correlation matrix\n",
        "dataplot =sns.heatmap(df.corr(),cmap=\"YlGnBu\",annot=True)\n",
        "\n",
        "#displaying heatmap\n",
        "plt.show()"
      ],
      "metadata": {
        "id": "Ocjz38w0lHBg",
        "colab": {
          "base_uri": "https://localhost:8080/",
          "height": 322
        },
        "outputId": "a8c94723-be9d-4834-8d58-ce2d39e41f80"
      },
      "execution_count": null,
      "outputs": [
        {
          "output_type": "display_data",
          "data": {
            "text/plain": [
              "<Figure size 432x288 with 2 Axes>"
            ],
            "image/png": "[encoded data removed]"
          },
          "metadata": {
            "needs_background": "light"
          }
        }
      ]
    },
    {
      "cell_type": "code",
      "execution_count": null,
      "metadata": {
        "id": "1_yR75UE1wlJ",
        "colab": {
          "base_uri": "https://localhost:8080/"
        },
        "outputId": "98824e2c-05d2-4831-a503-10d4b143a381"
      },
      "outputs": [
        {
          "output_type": "execute_result",
          "data": {
            "text/plain": [
              "array(['rice', 'maize', 'chickpea', 'kidneybeans', 'pigeonpeas',\n",
              "       'mothbeans', 'mungbean', 'blackgram', 'lentil', 'pomegranate',\n",
              "       'banana', 'mango', 'grapes', 'watermelon', 'muskmelon', 'apple',\n",
              "       'orange', 'papaya', 'coconut', 'cotton', 'jute', 'coffee'],\n",
              "      dtype=object)"
            ]
          },
          "metadata": {},
          "execution_count": 11
        }
      ],
      "source": [
        "data['crop'].unique() #22 crops"
      ]
    },
    {
      "cell_type": "code",
      "execution_count": null,
      "metadata": {
        "id": "Vxs5JV_g1-iW",
        "colab": {
          "base_uri": "https://localhost:8080/",
          "height": 424
        },
        "outputId": "2a5a4c9a-0e21-45a6-88ae-7eac40139651"
      },
      "outputs": [
        {
          "output_type": "execute_result",
          "data": {
            "text/plain": [
              "        N   P   K  temperature   humidity        ph    rainfall  crop  \\\n",
              "0      90  42  43    20.879744  82.002744  6.502985  202.935536     0   \n",
              "1      85  58  41    21.770462  80.319644  7.038096  226.655537     0   \n",
              "2      60  55  44    23.004459  82.320763  7.840207  263.964248     0   \n",
              "3      74  35  40    26.491096  80.158363  6.980401  242.864034     0   \n",
              "4      78  42  42    20.130175  81.604873  7.628473  262.717340     0   \n",
              "...   ...  ..  ..          ...        ...       ...         ...   ...   \n",
              "2195  107  34  32    26.774637  66.413269  6.780064  177.774507    21   \n",
              "2196   99  15  27    27.417112  56.636362  6.086922  127.924610    21   \n",
              "2197  118  33  30    24.131797  67.225123  6.362608  173.322839    21   \n",
              "2198  117  32  34    26.272418  52.127394  6.758793  127.175293    21   \n",
              "2199  104  18  30    23.603016  60.396475  6.779833  140.937041    21   \n",
              "\n",
              "                 fertilizer  \n",
              "0                    Manure  \n",
              "1                    Manure  \n",
              "2                      Urea  \n",
              "3                      Urea  \n",
              "4                    Manure  \n",
              "...                     ...  \n",
              "2195  Di-ammonium Phosphate  \n",
              "2196                 potash  \n",
              "2197                 potash  \n",
              "2198  Di-ammonium Phosphate  \n",
              "2199  Di-ammonium Phosphate  \n",
              "\n",
              "[2200 rows x 9 columns]"
            ],
            "text/html": [
              "\n",
              "  <div id=\"df-7786bebe-b02b-4f7c-96eb-9dfa7ab64d42\">\n",
              "    <div class=\"colab-df-container\">\n",
              "      <div>\n",
              "<style scoped>\n",
              "    .dataframe tbody tr th:only-of-type {\n",
              "        vertical-align: middle;\n",
              "    }\n",
              "\n",
              "    .dataframe tbody tr th {\n",
              "        vertical-align: top;\n",
              "    }\n",
              "\n",
              "    .dataframe thead th {\n",
              "        text-align: right;\n",
              "    }\n",
              "</style>\n",
              "<table border=\"1\" class=\"dataframe\">\n",
              "  <thead>\n",
              "    <tr style=\"text-align: right;\">\n",
              "      <th></th>\n",
              "      <th>N</th>\n",
              "      <th>P</th>\n",
              "      <th>K</th>\n",
              "      <th>temperature</th>\n",
              "      <th>humidity</th>\n",
              "      <th>ph</th>\n",
              "      <th>rainfall</th>\n",
              "      <th>crop</th>\n",
              "      <th>fertilizer</th>\n",
              "    </tr>\n",
              "  </thead>\n",
              "  <tbody>\n",
              "    <tr>\n",
              "      <th>0</th>\n",
              "      <td>90</td>\n",
              "      <td>42</td>\n",
              "      <td>43</td>\n",
              "      <td>20.879744</td>\n",
              "      <td>82.002744</td>\n",
              "      <td>6.502985</td>\n",
              "      <td>202.935536</td>\n",
              "      <td>0</td>\n",
              "      <td>Manure</td>\n",
              "    </tr>\n",
              "    <tr>\n",
              "      <th>1</th>\n",
              "      <td>85</td>\n",
              "      <td>58</td>\n",
              "      <td>41</td>\n",
              "      <td>21.770462</td>\n",
              "      <td>80.319644</td>\n",
              "      <td>7.038096</td>\n",
              "      <td>226.655537</td>\n",
              "      <td>0</td>\n",
              "      <td>Manure</td>\n",
              "    </tr>\n",
              "    <tr>\n",
              "      <th>2</th>\n",
              "      <td>60</td>\n",
              "      <td>55</td>\n",
              "      <td>44</td>\n",
              "      <td>23.004459</td>\n",
              "      <td>82.320763</td>\n",
              "      <td>7.840207</td>\n",
              "      <td>263.964248</td>\n",
              "      <td>0</td>\n",
              "      <td>Urea</td>\n",
              "    </tr>\n",
              "    <tr>\n",
              "      <th>3</th>\n",
              "      <td>74</td>\n",
              "      <td>35</td>\n",
              "      <td>40</td>\n",
              "      <td>26.491096</td>\n",
              "      <td>80.158363</td>\n",
              "      <td>6.980401</td>\n",
              "      <td>242.864034</td>\n",
              "      <td>0</td>\n",
              "      <td>Urea</td>\n",
              "    </tr>\n",
              "    <tr>\n",
              "      <th>4</th>\n",
              "      <td>78</td>\n",
              "      <td>42</td>\n",
              "      <td>42</td>\n",
              "      <td>20.130175</td>\n",
              "      <td>81.604873</td>\n",
              "      <td>7.628473</td>\n",
              "      <td>262.717340</td>\n",
              "      <td>0</td>\n",
              "      <td>Manure</td>\n",
              "    </tr>\n",
              "    <tr>\n",
              "      <th>...</th>\n",
              "      <td>...</td>\n",
              "      <td>...</td>\n",
              "      <td>...</td>\n",
              "      <td>...</td>\n",
              "      <td>...</td>\n",
              "      <td>...</td>\n",
              "      <td>...</td>\n",
              "      <td>...</td>\n",
              "      <td>...</td>\n",
              "    </tr>\n",
              "    <tr>\n",
              "      <th>2195</th>\n",
              "      <td>107</td>\n",
              "      <td>34</td>\n",
              "      <td>32</td>\n",
              "      <td>26.774637</td>\n",
              "      <td>66.413269</td>\n",
              "      <td>6.780064</td>\n",
              "      <td>177.774507</td>\n",
              "      <td>21</td>\n",
              "      <td>Di-ammonium Phosphate</td>\n",
              "    </tr>\n",
              "    <tr>\n",
              "      <th>2196</th>\n",
              "      <td>99</td>\n",
              "      <td>15</td>\n",
              "      <td>27</td>\n",
              "      <td>27.417112</td>\n",
              "      <td>56.636362</td>\n",
              "      <td>6.086922</td>\n",
              "      <td>127.924610</td>\n",
              "      <td>21</td>\n",
              "      <td>potash</td>\n",
              "    </tr>\n",
              "    <tr>\n",
              "      <th>2197</th>\n",
              "      <td>118</td>\n",
              "      <td>33</td>\n",
              "      <td>30</td>\n",
              "      <td>24.131797</td>\n",
              "      <td>67.225123</td>\n",
              "      <td>6.362608</td>\n",
              "      <td>173.322839</td>\n",
              "      <td>21</td>\n",
              "      <td>potash</td>\n",
              "    </tr>\n",
              "    <tr>\n",
              "      <th>2198</th>\n",
              "      <td>117</td>\n",
              "      <td>32</td>\n",
              "      <td>34</td>\n",
              "      <td>26.272418</td>\n",
              "      <td>52.127394</td>\n",
              "      <td>6.758793</td>\n",
              "      <td>127.175293</td>\n",
              "      <td>21</td>\n",
              "      <td>Di-ammonium Phosphate</td>\n",
              "    </tr>\n",
              "    <tr>\n",
              "      <th>2199</th>\n",
              "      <td>104</td>\n",
              "      <td>18</td>\n",
              "      <td>30</td>\n",
              "      <td>23.603016</td>\n",
              "      <td>60.396475</td>\n",
              "      <td>6.779833</td>\n",
              "      <td>140.937041</td>\n",
              "      <td>21</td>\n",
              "      <td>Di-ammonium Phosphate</td>\n",
              "    </tr>\n",
              "  </tbody>\n",
              "</table>\n",
              "<p>2200 rows × 9 columns</p>\n",
              "</div>\n",
              "      <button class=\"colab-df-convert\" onclick=\"convertToInteractive('df-7786bebe-b02b-4f7c-96eb-9dfa7ab64d42')\"\n",
              "              title=\"Convert this dataframe to an interactive table.\"\n",
              "              style=\"display:none;\">\n",
              "        \n",
              "  <svg xmlns=\"http://www.w3.org/2000/svg\" height=\"24px\"viewBox=\"0 0 24 24\"\n",
              "       width=\"24px\">\n",
              "    <path d=\"M0 0h24v24H0V0z\" fill=\"none\"/>\n",
              "    <path d=\"M18.56 5.44l.94 2.06.94-2.06 2.06-.94-2.06-.94-.94-2.06-.94 2.06-2.06.94zm-11 1L8.5 8.5l.94-2.06 2.06-.94-2.06-.94L8.5 2.5l-.94 2.06-2.06.94zm10 10l.94 2.06.94-2.06 2.06-.94-2.06-.94-.94-2.06-.94 2.06-2.06.94z\"/><path d=\"M17.41 7.96l-1.37-1.37c-.4-.4-.92-.59-1.43-.59-.52 0-1.04.2-1.43.59L10.3 9.45l-7.72 7.72c-.78.78-.78 2.05 0 2.83L4 21.41c.39.39.9.59 1.41.59.51 0 1.02-.2 1.41-.59l7.78-7.78 2.81-2.81c.8-.78.8-2.07 0-2.86zM5.41 20L4 18.59l7.72-7.72 1.47 1.35L5.41 20z\"/>\n",
              "  </svg>\n",
              "      </button>\n",
              "      \n",
              "  <style>\n",
              "    .colab-df-container {\n",
              "      display:flex;\n",
              "      flex-wrap:wrap;\n",
              "      gap: 12px;\n",
              "    }\n",
              "\n",
              "    .colab-df-convert {\n",
              "      background-color: #E8F0FE;\n",
              "      border: none;\n",
              "      border-radius: 50%;\n",
              "      cursor: pointer;\n",
              "      display: none;\n",
              "      fill: #1967D2;\n",
              "      height: 32px;\n",
              "      padding: 0 0 0 0;\n",
              "      width: 32px;\n",
              "    }\n",
              "\n",
              "    .colab-df-convert:hover {\n",
              "      background-color: #E2EBFA;\n",
              "      box-shadow: 0px 1px 2px rgba(60, 64, 67, 0.3), 0px 1px 3px 1px rgba(60, 64, 67, 0.15);\n",
              "      fill: #174EA6;\n",
              "    }\n",
              "\n",
              "    [theme=dark] .colab-df-convert {\n",
              "      background-color: #3B4455;\n",
              "      fill: #D2E3FC;\n",
              "    }\n",
              "\n",
              "    [theme=dark] .colab-df-convert:hover {\n",
              "      background-color: #434B5C;\n",
              "      box-shadow: 0px 1px 3px 1px rgba(0, 0, 0, 0.15);\n",
              "      filter: drop-shadow(0px 1px 2px rgba(0, 0, 0, 0.3));\n",
              "      fill: #FFFFFF;\n",
              "    }\n",
              "  </style>\n",
              "\n",
              "      <script>\n",
              "        const buttonEl =\n",
              "          document.querySelector('#df-7786bebe-b02b-4f7c-96eb-9dfa7ab64d42 button.colab-df-convert');\n",
              "        buttonEl.style.display =\n",
              "          google.colab.kernel.accessAllowed ? 'block' : 'none';\n",
              "\n",
              "        async function convertToInteractive(key) {\n",
              "          const element = document.querySelector('#df-7786bebe-b02b-4f7c-96eb-9dfa7ab64d42');\n",
              "          const dataTable =\n",
              "            await google.colab.kernel.invokeFunction('convertToInteractive',\n",
              "                                                     [key], {});\n",
              "          if (!dataTable) return;\n",
              "\n",
              "          const docLinkHtml = 'Like what you see? Visit the ' +\n",
              "            '<a target=\"_blank\" href=https://colab.research.google.com/notebooks/data_table.ipynb>data table notebook</a>'\n",
              "            + ' to learn more about interactive tables.';\n",
              "          element.innerHTML = '';\n",
              "          dataTable['output_type'] = 'display_data';\n",
              "          await google.colab.output.renderOutput(dataTable, element);\n",
              "          const docLink = document.createElement('div');\n",
              "          docLink.innerHTML = docLinkHtml;\n",
              "          element.appendChild(docLink);\n",
              "        }\n",
              "      </script>\n",
              "    </div>\n",
              "  </div>\n",
              "  "
            ]
          },
          "metadata": {},
          "execution_count": 12
        }
      ],
      "source": [
        "data['crop'].replace(['rice', 'maize','chickpea','kidneybeans','pigeonpeas',\n",
        "       'mothbeans', 'mungbean', 'blackgram', 'lentil', 'pomegranate',\n",
        "       'banana', 'mango', 'grapes', 'watermelon', 'muskmelon', 'apple',\n",
        "       'orange', 'papaya', 'coconut', 'cotton', 'jute', 'coffee'], [0,1,2,3,4,5,6,7,8,9,10,11,12,13,14,15,16,17,18,19,20,21], inplace=True) \n",
        "data \n"
      ]
    },
    {
      "cell_type": "code",
      "source": [
        "data['fertilizer'].unique()"
      ],
      "metadata": {
        "colab": {
          "base_uri": "https://localhost:8080/"
        },
        "id": "kt9I0wKll1cu",
        "outputId": "4996cee7-1f27-40d8-c0c5-375f8991aeb4"
      },
      "execution_count": null,
      "outputs": [
        {
          "output_type": "execute_result",
          "data": {
            "text/plain": [
              "array(['Manure', 'Urea', 'phosphorus fertilize', 'Erwon NPK 30:10:10',\n",
              "       'Nitrogen', 'Phosphorus', 'Complex NPK fertilizers', 'Fertiberia',\n",
              "       'Potassium', 'Â\\xa0Nitrogen fertilizers', 'K2O', 'P2O5', 'N-P-K',\n",
              "       'TrustBasket based Fertilizer', 'IFFCO fertilizer',\n",
              "       \"Jobe's Fruit fertilizer\", 'Down to earth Organic fertilizer',\n",
              "       'Hydrated Lime', 'liquid seaweed', 'Calciun Nitrate', 'Boron',\n",
              "       'Azospirillum', 'Phosphobacteria', 'Khandelwal Bio Fertilizer',\n",
              "       'Apple Calcium Chloride Agriculture & Fertilizer Powder',\n",
              "       'Phosphate', \"Jobe's Fruit & Citrus Fertilizer Spikes\",\n",
              "       'Manganese sulfate 200 gm', 'Calcium nitrate 250 gm', 'EcoScraps',\n",
              "       'Poultry manure', 'Zinc Sulphate â\\x80\\x93 50 kg.',\n",
              "       'SSP â\\x80\\x93 375 kg.', 'MgSO4Â\\xa0Â\\xa0', 'UreaÂ\\xa0Â\\xa0',\n",
              "       'potash', 'Di-ammonium Phosphate'], dtype=object)"
            ]
          },
          "metadata": {},
          "execution_count": 13
        }
      ]
    },
    {
      "cell_type": "code",
      "source": [
        "#Label Encoding \n",
        "from sklearn.preprocessing import LabelEncoder # to encode object variable to numeric\n",
        "le = LabelEncoder()\n",
        "data['fertilizer']= le.fit_transform(data['fertilizer'])"
      ],
      "metadata": {
        "id": "AckzZjFHOXek"
      },
      "execution_count": null,
      "outputs": []
    },
    {
      "cell_type": "code",
      "source": [
        "data"
      ],
      "metadata": {
        "id": "_wbCipVXPC-5",
        "colab": {
          "base_uri": "https://localhost:8080/",
          "height": 424
        },
        "outputId": "205364d4-2fe9-4019-9b71-6cdfe8a7e97d"
      },
      "execution_count": null,
      "outputs": [
        {
          "output_type": "execute_result",
          "data": {
            "text/plain": [
              "        N   P   K  temperature   humidity        ph    rainfall  crop  \\\n",
              "0      90  42  43    20.879744  82.002744  6.502985  202.935536     0   \n",
              "1      85  58  41    21.770462  80.319644  7.038096  226.655537     0   \n",
              "2      60  55  44    23.004459  82.320763  7.840207  263.964248     0   \n",
              "3      74  35  40    26.491096  80.158363  6.980401  242.864034     0   \n",
              "4      78  42  42    20.130175  81.604873  7.628473  262.717340     0   \n",
              "...   ...  ..  ..          ...        ...       ...         ...   ...   \n",
              "2195  107  34  32    26.774637  66.413269  6.780064  177.774507    21   \n",
              "2196   99  15  27    27.417112  56.636362  6.086922  127.924610    21   \n",
              "2197  118  33  30    24.131797  67.225123  6.362608  173.322839    21   \n",
              "2198  117  32  34    26.272418  52.127394  6.758793  127.175293    21   \n",
              "2199  104  18  30    23.603016  60.396475  6.779833  140.937041    21   \n",
              "\n",
              "      fertilizer  \n",
              "0             18  \n",
              "1             18  \n",
              "2             30  \n",
              "3             30  \n",
              "4             18  \n",
              "...          ...  \n",
              "2195           6  \n",
              "2196          35  \n",
              "2197          35  \n",
              "2198           6  \n",
              "2199           6  \n",
              "\n",
              "[2200 rows x 9 columns]"
            ],
            "text/html": [
              "\n",
              "  <div id=\"df-335e8216-0ba0-46fc-8673-1527db82c7ce\">\n",
              "    <div class=\"colab-df-container\">\n",
              "      <div>\n",
              "<style scoped>\n",
              "    .dataframe tbody tr th:only-of-type {\n",
              "        vertical-align: middle;\n",
              "    }\n",
              "\n",
              "    .dataframe tbody tr th {\n",
              "        vertical-align: top;\n",
              "    }\n",
              "\n",
              "    .dataframe thead th {\n",
              "        text-align: right;\n",
              "    }\n",
              "</style>\n",
              "<table border=\"1\" class=\"dataframe\">\n",
              "  <thead>\n",
              "    <tr style=\"text-align: right;\">\n",
              "      <th></th>\n",
              "      <th>N</th>\n",
              "      <th>P</th>\n",
              "      <th>K</th>\n",
              "      <th>temperature</th>\n",
              "      <th>humidity</th>\n",
              "      <th>ph</th>\n",
              "      <th>rainfall</th>\n",
              "      <th>crop</th>\n",
              "      <th>fertilizer</th>\n",
              "    </tr>\n",
              "  </thead>\n",
              "  <tbody>\n",
              "    <tr>\n",
              "      <th>0</th>\n",
              "      <td>90</td>\n",
              "      <td>42</td>\n",
              "      <td>43</td>\n",
              "      <td>20.879744</td>\n",
              "      <td>82.002744</td>\n",
              "      <td>6.502985</td>\n",
              "      <td>202.935536</td>\n",
              "      <td>0</td>\n",
              "      <td>18</td>\n",
              "    </tr>\n",
              "    <tr>\n",
              "      <th>1</th>\n",
              "      <td>85</td>\n",
              "      <td>58</td>\n",
              "      <td>41</td>\n",
              "      <td>21.770462</td>\n",
              "      <td>80.319644</td>\n",
              "      <td>7.038096</td>\n",
              "      <td>226.655537</td>\n",
              "      <td>0</td>\n",
              "      <td>18</td>\n",
              "    </tr>\n",
              "    <tr>\n",
              "      <th>2</th>\n",
              "      <td>60</td>\n",
              "      <td>55</td>\n",
              "      <td>44</td>\n",
              "      <td>23.004459</td>\n",
              "      <td>82.320763</td>\n",
              "      <td>7.840207</td>\n",
              "      <td>263.964248</td>\n",
              "      <td>0</td>\n",
              "      <td>30</td>\n",
              "    </tr>\n",
              "    <tr>\n",
              "      <th>3</th>\n",
              "      <td>74</td>\n",
              "      <td>35</td>\n",
              "      <td>40</td>\n",
              "      <td>26.491096</td>\n",
              "      <td>80.158363</td>\n",
              "      <td>6.980401</td>\n",
              "      <td>242.864034</td>\n",
              "      <td>0</td>\n",
              "      <td>30</td>\n",
              "    </tr>\n",
              "    <tr>\n",
              "      <th>4</th>\n",
              "      <td>78</td>\n",
              "      <td>42</td>\n",
              "      <td>42</td>\n",
              "      <td>20.130175</td>\n",
              "      <td>81.604873</td>\n",
              "      <td>7.628473</td>\n",
              "      <td>262.717340</td>\n",
              "      <td>0</td>\n",
              "      <td>18</td>\n",
              "    </tr>\n",
              "    <tr>\n",
              "      <th>...</th>\n",
              "      <td>...</td>\n",
              "      <td>...</td>\n",
              "      <td>...</td>\n",
              "      <td>...</td>\n",
              "      <td>...</td>\n",
              "      <td>...</td>\n",
              "      <td>...</td>\n",
              "      <td>...</td>\n",
              "      <td>...</td>\n",
              "    </tr>\n",
              "    <tr>\n",
              "      <th>2195</th>\n",
              "      <td>107</td>\n",
              "      <td>34</td>\n",
              "      <td>32</td>\n",
              "      <td>26.774637</td>\n",
              "      <td>66.413269</td>\n",
              "      <td>6.780064</td>\n",
              "      <td>177.774507</td>\n",
              "      <td>21</td>\n",
              "      <td>6</td>\n",
              "    </tr>\n",
              "    <tr>\n",
              "      <th>2196</th>\n",
              "      <td>99</td>\n",
              "      <td>15</td>\n",
              "      <td>27</td>\n",
              "      <td>27.417112</td>\n",
              "      <td>56.636362</td>\n",
              "      <td>6.086922</td>\n",
              "      <td>127.924610</td>\n",
              "      <td>21</td>\n",
              "      <td>35</td>\n",
              "    </tr>\n",
              "    <tr>\n",
              "      <th>2197</th>\n",
              "      <td>118</td>\n",
              "      <td>33</td>\n",
              "      <td>30</td>\n",
              "      <td>24.131797</td>\n",
              "      <td>67.225123</td>\n",
              "      <td>6.362608</td>\n",
              "      <td>173.322839</td>\n",
              "      <td>21</td>\n",
              "      <td>35</td>\n",
              "    </tr>\n",
              "    <tr>\n",
              "      <th>2198</th>\n",
              "      <td>117</td>\n",
              "      <td>32</td>\n",
              "      <td>34</td>\n",
              "      <td>26.272418</td>\n",
              "      <td>52.127394</td>\n",
              "      <td>6.758793</td>\n",
              "      <td>127.175293</td>\n",
              "      <td>21</td>\n",
              "      <td>6</td>\n",
              "    </tr>\n",
              "    <tr>\n",
              "      <th>2199</th>\n",
              "      <td>104</td>\n",
              "      <td>18</td>\n",
              "      <td>30</td>\n",
              "      <td>23.603016</td>\n",
              "      <td>60.396475</td>\n",
              "      <td>6.779833</td>\n",
              "      <td>140.937041</td>\n",
              "      <td>21</td>\n",
              "      <td>6</td>\n",
              "    </tr>\n",
              "  </tbody>\n",
              "</table>\n",
              "<p>2200 rows × 9 columns</p>\n",
              "</div>\n",
              "      <button class=\"colab-df-convert\" onclick=\"convertToInteractive('df-335e8216-0ba0-46fc-8673-1527db82c7ce')\"\n",
              "              title=\"Convert this dataframe to an interactive table.\"\n",
              "              style=\"display:none;\">\n",
              "        \n",
              "  <svg xmlns=\"http://www.w3.org/2000/svg\" height=\"24px\"viewBox=\"0 0 24 24\"\n",
              "       width=\"24px\">\n",
              "    <path d=\"M0 0h24v24H0V0z\" fill=\"none\"/>\n",
              "    <path d=\"M18.56 5.44l.94 2.06.94-2.06 2.06-.94-2.06-.94-.94-2.06-.94 2.06-2.06.94zm-11 1L8.5 8.5l.94-2.06 2.06-.94-2.06-.94L8.5 2.5l-.94 2.06-2.06.94zm10 10l.94 2.06.94-2.06 2.06-.94-2.06-.94-.94-2.06-.94 2.06-2.06.94z\"/><path d=\"M17.41 7.96l-1.37-1.37c-.4-.4-.92-.59-1.43-.59-.52 0-1.04.2-1.43.59L10.3 9.45l-7.72 7.72c-.78.78-.78 2.05 0 2.83L4 21.41c.39.39.9.59 1.41.59.51 0 1.02-.2 1.41-.59l7.78-7.78 2.81-2.81c.8-.78.8-2.07 0-2.86zM5.41 20L4 18.59l7.72-7.72 1.47 1.35L5.41 20z\"/>\n",
              "  </svg>\n",
              "      </button>\n",
              "      \n",
              "  <style>\n",
              "    .colab-df-container {\n",
              "      display:flex;\n",
              "      flex-wrap:wrap;\n",
              "      gap: 12px;\n",
              "    }\n",
              "\n",
              "    .colab-df-convert {\n",
              "      background-color: #E8F0FE;\n",
              "      border: none;\n",
              "      border-radius: 50%;\n",
              "      cursor: pointer;\n",
              "      display: none;\n",
              "      fill: #1967D2;\n",
              "      height: 32px;\n",
              "      padding: 0 0 0 0;\n",
              "      width: 32px;\n",
              "    }\n",
              "\n",
              "    .colab-df-convert:hover {\n",
              "      background-color: #E2EBFA;\n",
              "      box-shadow: 0px 1px 2px rgba(60, 64, 67, 0.3), 0px 1px 3px 1px rgba(60, 64, 67, 0.15);\n",
              "      fill: #174EA6;\n",
              "    }\n",
              "\n",
              "    [theme=dark] .colab-df-convert {\n",
              "      background-color: #3B4455;\n",
              "      fill: #D2E3FC;\n",
              "    }\n",
              "\n",
              "    [theme=dark] .colab-df-convert:hover {\n",
              "      background-color: #434B5C;\n",
              "      box-shadow: 0px 1px 3px 1px rgba(0, 0, 0, 0.15);\n",
              "      filter: drop-shadow(0px 1px 2px rgba(0, 0, 0, 0.3));\n",
              "      fill: #FFFFFF;\n",
              "    }\n",
              "  </style>\n",
              "\n",
              "      <script>\n",
              "        const buttonEl =\n",
              "          document.querySelector('#df-335e8216-0ba0-46fc-8673-1527db82c7ce button.colab-df-convert');\n",
              "        buttonEl.style.display =\n",
              "          google.colab.kernel.accessAllowed ? 'block' : 'none';\n",
              "\n",
              "        async function convertToInteractive(key) {\n",
              "          const element = document.querySelector('#df-335e8216-0ba0-46fc-8673-1527db82c7ce');\n",
              "          const dataTable =\n",
              "            await google.colab.kernel.invokeFunction('convertToInteractive',\n",
              "                                                     [key], {});\n",
              "          if (!dataTable) return;\n",
              "\n",
              "          const docLinkHtml = 'Like what you see? Visit the ' +\n",
              "            '<a target=\"_blank\" href=https://colab.research.google.com/notebooks/data_table.ipynb>data table notebook</a>'\n",
              "            + ' to learn more about interactive tables.';\n",
              "          element.innerHTML = '';\n",
              "          dataTable['output_type'] = 'display_data';\n",
              "          await google.colab.output.renderOutput(dataTable, element);\n",
              "          const docLink = document.createElement('div');\n",
              "          docLink.innerHTML = docLinkHtml;\n",
              "          element.appendChild(docLink);\n",
              "        }\n",
              "      </script>\n",
              "    </div>\n",
              "  </div>\n",
              "  "
            ]
          },
          "metadata": {},
          "execution_count": 15
        }
      ]
    },
    {
      "cell_type": "markdown",
      "source": [
        "**NORMALIZATION-STANDARAD SCALING AND LOADING DATA**"
      ],
      "metadata": {
        "id": "PzdnGRWPmiYF"
      }
    },
    {
      "cell_type": "code",
      "execution_count": null,
      "metadata": {
        "id": "E4bMUkI8PKYj"
      },
      "outputs": [],
      "source": [
        "from sklearn.model_selection import train_test_split \n",
        "x = data.drop('fertilizer', axis=1)# N P K temperature humidity ph rainfall\n",
        "y = data['fertilizer']#label\n",
        "\n",
        "#splitting the dataset\n",
        "xtrain, xtest, ytrain, ytest = train_test_split(x, y, test_size=0.5, random_state=42)\n",
        "\n",
        "#normalization\n",
        "from sklearn.preprocessing import MinMaxScaler\n",
        "scaler = MinMaxScaler()\n",
        "X_train_scaled = scaler.fit_transform(xtrain)\n",
        "\n",
        "# we must apply the scaling to the test set as well that we are computing for the training set\n",
        "X_test_scaled = scaler.transform(xtest)"
      ]
    },
    {
      "cell_type": "code",
      "source": [
        "X_train_scaled"
      ],
      "metadata": {
        "id": "VhnmH34iNsyz",
        "colab": {
          "base_uri": "https://localhost:8080/"
        },
        "outputId": "221e0878-c5fa-453d-99ee-468c1ebc617d"
      },
      "execution_count": null,
      "outputs": [
        {
          "output_type": "execute_result",
          "data": {
            "text/plain": [
              "array([[0.62142857, 0.35      , 0.075     , ..., 0.46037026, 0.31819084,\n",
              "        0.04761905],\n",
              "       [0.1       , 0.45714286, 0.07      , ..., 0.56689879, 0.11523014,\n",
              "        0.38095238],\n",
              "       [0.26428571, 0.42142857, 0.085     , ..., 0.36047474, 0.36534116,\n",
              "        0.14285714],\n",
              "       ...,\n",
              "       [0.07857143, 0.22142857, 0.13      , ..., 0.44414783, 0.28736163,\n",
              "        0.52380952],\n",
              "       [0.07857143, 0.85      , 0.995     , ..., 0.42578221, 0.183571  ,\n",
              "        0.57142857],\n",
              "       [0.22857143, 0.52142857, 0.085     , ..., 0.52955682, 0.11886358,\n",
              "        0.38095238]])"
            ]
          },
          "metadata": {},
          "execution_count": 17
        }
      ]
    },
    {
      "cell_type": "code",
      "source": [
        "ytrain"
      ],
      "metadata": {
        "id": "li-ms2lkN48m",
        "colab": {
          "base_uri": "https://localhost:8080/"
        },
        "outputId": "466eb510-83ee-4cf0-8180-2e426006360a"
      },
      "execution_count": null,
      "outputs": [
        {
          "output_type": "execute_result",
          "data": {
            "text/plain": [
              "129     34\n",
              "843     22\n",
              "323     10\n",
              "1287    33\n",
              "14      30\n",
              "        ..\n",
              "1638    13\n",
              "1095    12\n",
              "1130     7\n",
              "1294    33\n",
              "860     15\n",
              "Name: fertilizer, Length: 1100, dtype: int64"
            ]
          },
          "metadata": {},
          "execution_count": 18
        }
      ]
    },
    {
      "cell_type": "code",
      "source": [
        "X_test_scaled"
      ],
      "metadata": {
        "id": "PbFskpVsN7rO",
        "colab": {
          "base_uri": "https://localhost:8080/"
        },
        "outputId": "bd01acea-b46e-48ac-a228-a805169672ee"
      },
      "execution_count": null,
      "outputs": [
        {
          "output_type": "execute_result",
          "data": {
            "text/plain": [
              "array([[0.72142857, 0.08571429, 0.21      , ..., 0.3974906 , 0.02139317,\n",
              "        0.66666667],\n",
              "       [0.7       , 0.02142857, 0.23      , ..., 0.40942543, 0.1045544 ,\n",
              "        0.61904762],\n",
              "       [0.42142857, 0.40714286, 0.22      , ..., 0.51902655, 0.3395822 ,\n",
              "        0.80952381],\n",
              "       ...,\n",
              "       [0.15714286, 0.35714286, 0.075     , ..., 0.59647371, 0.14675307,\n",
              "        0.33333333],\n",
              "       [0.09285714, 0.37142857, 0.1       , ..., 0.50642844, 0.10830502,\n",
              "        0.28571429],\n",
              "       [0.67857143, 0.05      , 0.23      , ..., 0.47727064, 0.08581679,\n",
              "        0.61904762]])"
            ]
          },
          "metadata": {},
          "execution_count": 19
        }
      ]
    },
    {
      "cell_type": "code",
      "source": [
        "ytest"
      ],
      "metadata": {
        "id": "z_Ei1KTqOAaH",
        "colab": {
          "base_uri": "https://localhost:8080/"
        },
        "outputId": "bf135e86-2eea-4913-8f90-cc32ebe576f9"
      },
      "execution_count": null,
      "outputs": [
        {
          "output_type": "execute_result",
          "data": {
            "text/plain": [
              "1451    24\n",
              "1334     2\n",
              "1761    17\n",
              "1735     3\n",
              "1576    16\n",
              "        ..\n",
              "1655    13\n",
              "1289    11\n",
              "754     10\n",
              "626     21\n",
              "1315     2\n",
              "Name: fertilizer, Length: 1100, dtype: int64"
            ]
          },
          "metadata": {},
          "execution_count": 20
        }
      ]
    },
    {
      "cell_type": "markdown",
      "source": [
        "**BUILDING MODEL**"
      ],
      "metadata": {
        "id": "6PYVVOkSnYYG"
      }
    },
    {
      "cell_type": "code",
      "execution_count": null,
      "metadata": {
        "id": "BWRRxdaxPX4s",
        "colab": {
          "base_uri": "https://localhost:8080/"
        },
        "outputId": "0fcd2c94-6476-43ad-94cc-0cb023260007"
      },
      "outputs": [
        {
          "output_type": "stream",
          "name": "stdout",
          "text": [
            "      y_pred  y_actual\n",
            "1451      24        24\n",
            "1334       4         2\n",
            "1761       3        17\n",
            "1735       3         3\n",
            "1576      16        16\n",
            "...      ...       ...\n",
            "1655      13        13\n",
            "1289      33        11\n",
            "754       36        10\n",
            "626       21        21\n",
            "1315       4         2\n",
            "\n",
            "[1100 rows x 2 columns]\n",
            "Training Accuracy : 1.0\n",
            "Testing Accuracy : 0.5181818181818182\n"
          ]
        }
      ],
      "source": [
        "#decision tree classifier\n",
        "from sklearn.tree import DecisionTreeClassifier\n",
        "\n",
        "model = DecisionTreeClassifier()\n",
        "model.fit(X_train_scaled,ytrain)\n",
        "\n",
        "ypred=model.predict(X_test_scaled)\n",
        "\n",
        "#Evaluating the model \n",
        "\n",
        "output={'y_pred':ypred,'y_actual':ytest}\n",
        "output=pd.DataFrame(output)\n",
        "print(output)\n",
        "\n",
        "#accuracies of the model\n",
        "print('Training Accuracy :', model.score(X_train_scaled, ytrain))\n",
        "print('Testing Accuracy :', model.score(X_test_scaled, ytest) )"
      ]
    },
    {
      "cell_type": "code",
      "execution_count": null,
      "metadata": {
        "id": "T5EBJ1c9oYOo",
        "colab": {
          "base_uri": "https://localhost:8080/"
        },
        "outputId": "216d3c0c-c972-4132-bc9b-bf7228373f70"
      },
      "outputs": [
        {
          "output_type": "stream",
          "name": "stdout",
          "text": [
            "      y_pred  y_actual\n",
            "1451      24        24\n",
            "1334       2         2\n",
            "1761      17        17\n",
            "1735      17         3\n",
            "1576      16        16\n",
            "...      ...       ...\n",
            "1655      13        13\n",
            "1289      11        11\n",
            "754       36        10\n",
            "626       21        21\n",
            "1315       4         2\n",
            "\n",
            "[1100 rows x 2 columns]\n",
            "Training Accuracy : 1.0\n",
            "Testing Accuracy : 0.5263636363636364\n"
          ]
        }
      ],
      "source": [
        "#decision tree classifier\n",
        "from sklearn.tree import DecisionTreeClassifier\n",
        "\n",
        "model = DecisionTreeClassifier(criterion='entropy',max_depth=20)\n",
        "model.fit(X_train_scaled,ytrain)\n",
        "\n",
        "ypred=model.predict(X_test_scaled)\n",
        "\n",
        "#Evaluating the model \n",
        "\n",
        "output={'y_pred':ypred,'y_actual':ytest}\n",
        "output=pd.DataFrame(output)\n",
        "print(output)\n",
        "\n",
        "#accuracies of the model\n",
        "print('Training Accuracy :', model.score(X_train_scaled, ytrain))\n",
        "print('Testing Accuracy :', model.score(X_test_scaled, ytest) )"
      ]
    },
    {
      "cell_type": "code",
      "execution_count": null,
      "metadata": {
        "id": "QIs8w2cpojOc",
        "colab": {
          "base_uri": "https://localhost:8080/"
        },
        "outputId": "3804a6ed-df13-4ada-bada-bb456e4e97b6"
      },
      "outputs": [
        {
          "output_type": "stream",
          "name": "stdout",
          "text": [
            "      y_pred  y_actual\n",
            "1451      24        24\n",
            "1334       4         2\n",
            "1761       3        17\n",
            "1735       3         3\n",
            "1576      16        16\n",
            "...      ...       ...\n",
            "1655      13        13\n",
            "1289      33        11\n",
            "754       36        10\n",
            "626       21        21\n",
            "1315       4         2\n",
            "\n",
            "[1100 rows x 2 columns]\n",
            "Training Accuracy : 1.0\n",
            "Testing Accuracy : 0.5127272727272727\n"
          ]
        }
      ],
      "source": [
        "#decision tree classifier\n",
        "from sklearn.tree import DecisionTreeClassifier\n",
        "\n",
        "model = DecisionTreeClassifier(criterion='gini',max_depth=20)\n",
        "model.fit(X_train_scaled,ytrain)\n",
        "\n",
        "ypred=model.predict(X_test_scaled)\n",
        "\n",
        "#Evaluating the model \n",
        "\n",
        "output={'y_pred':ypred,'y_actual':ytest}\n",
        "output=pd.DataFrame(output)\n",
        "print(output)\n",
        "\n",
        "#accuracies of the model\n",
        "print('Training Accuracy :', model.score(X_train_scaled, ytrain))\n",
        "print('Testing Accuracy :', model.score(X_test_scaled, ytest) )\n"
      ]
    },
    {
      "cell_type": "code",
      "execution_count": null,
      "metadata": {
        "id": "hlJSSX82pXD4",
        "colab": {
          "base_uri": "https://localhost:8080/"
        },
        "outputId": "04f3c903-144c-4fdf-f22d-4ed4cbeecd0c"
      },
      "outputs": [
        {
          "output_type": "stream",
          "name": "stdout",
          "text": [
            "      y_pred  y_actual\n",
            "1451      24        24\n",
            "1334       4         2\n",
            "1761       3        17\n",
            "1735       3         3\n",
            "1576      16        16\n",
            "...      ...       ...\n",
            "1655      13        13\n",
            "1289      33        11\n",
            "754       36        10\n",
            "626       21        21\n",
            "1315       2         2\n",
            "\n",
            "[1100 rows x 2 columns]\n",
            "Training Accuracy : 1.0\n",
            "Testing Accuracy : 0.5081818181818182\n"
          ]
        }
      ],
      "source": [
        "#random forest classifier\n",
        "from sklearn.ensemble import RandomForestClassifier\n",
        "\n",
        "model =RandomForestClassifier(max_depth=15,random_state=42)\n",
        "model.fit(X_train_scaled,ytrain)\n",
        "\n",
        "ypred=model.predict(X_test_scaled)\n",
        "\n",
        "#Evaluating the model \n",
        "\n",
        "output={'y_pred':ypred,'y_actual':ytest}\n",
        "output=pd.DataFrame(output)\n",
        "print(output)\n",
        "\n",
        "#accuracies of the model\n",
        "print('Training Accuracy :', model.score(X_train_scaled, ytrain))\n",
        "print('Testing Accuracy :', model.score(X_test_scaled, ytest) )"
      ]
    },
    {
      "cell_type": "code",
      "execution_count": null,
      "metadata": {
        "id": "LL4YPrQJptNf",
        "colab": {
          "base_uri": "https://localhost:8080/"
        },
        "outputId": "b15d8323-6975-4bd0-ba74-fe4ec1accec7"
      },
      "outputs": [
        {
          "output_type": "stream",
          "name": "stdout",
          "text": [
            "      y_pred  y_actual\n",
            "1451       1        24\n",
            "1334       4         2\n",
            "1761       3        17\n",
            "1735      17         3\n",
            "1576       0        16\n",
            "...      ...       ...\n",
            "1655      23        13\n",
            "1289      33        11\n",
            "754       36        10\n",
            "626       26        21\n",
            "1315       2         2\n",
            "\n",
            "[1100 rows x 2 columns]\n",
            "Training Accuracy : 0.6909090909090909\n",
            "Testing Accuracy : 0.5\n"
          ]
        }
      ],
      "source": [
        "#K-Nearest Neighbour  classifier\n",
        "from sklearn.neighbors import KNeighborsClassifier\n",
        "\n",
        "model =KNeighborsClassifier()\n",
        "model.fit(X_train_scaled,ytrain)\n",
        "\n",
        "ypred=model.predict(X_test_scaled)\n",
        "\n",
        "#Evaluating the model \n",
        "\n",
        "output={'y_pred':ypred,'y_actual':ytest}\n",
        "output=pd.DataFrame(output)\n",
        "print(output)\n",
        "\n",
        "#accuracies of the model\n",
        "print('Training Accuracy :', model.score(X_train_scaled, ytrain))\n",
        "print('Testing Accuracy :', model.score(X_test_scaled, ytest) )"
      ]
    },
    {
      "cell_type": "code",
      "execution_count": null,
      "metadata": {
        "id": "ifEKT8Ssp-qn",
        "colab": {
          "base_uri": "https://localhost:8080/"
        },
        "outputId": "168766b5-86a1-4644-88d9-92e1ee11d8dc"
      },
      "outputs": [
        {
          "output_type": "stream",
          "name": "stdout",
          "text": [
            "      y_pred  y_actual\n",
            "1451       1        24\n",
            "1334       2         2\n",
            "1761       3        17\n",
            "1735       3         3\n",
            "1576       0        16\n",
            "...      ...       ...\n",
            "1655      23        13\n",
            "1289      33        11\n",
            "754       10        10\n",
            "626       26        21\n",
            "1315       2         2\n",
            "\n",
            "[1100 rows x 2 columns]\n",
            "Training Accuracy : 0.5690909090909091\n",
            "Testing Accuracy : 0.4690909090909091\n"
          ]
        }
      ],
      "source": [
        "#svm\n",
        "from sklearn.svm import SVC\n",
        "\n",
        "model =SVC()\n",
        "model.fit(X_train_scaled,ytrain)\n",
        "\n",
        "ypred=model.predict(X_test_scaled)\n",
        "\n",
        "#Evaluating the model \n",
        "\n",
        "output={'y_pred':ypred,'y_actual':ytest}\n",
        "output=pd.DataFrame(output)\n",
        "print(output)\n",
        "\n",
        "#accuracies of the model\n",
        "print('Training Accuracy :', model.score(X_train_scaled, ytrain))\n",
        "print('Testing Accuracy :', model.score(X_test_scaled, ytest) )"
      ]
    }
  ]
}